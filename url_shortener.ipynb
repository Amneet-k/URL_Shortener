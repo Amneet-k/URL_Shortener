{
 "cells": [
  {
   "cell_type": "raw",
   "id": "2c8737e5-a431-40bc-a660-6ce4775edd59",
   "metadata": {},
   "source": [
    "!pip install pyshorteners\n",
    "!pip install tk"
   ]
  },
  {
   "cell_type": "code",
   "execution_count": 5,
   "id": "ad82d86d-3717-45db-89c3-d0dc9a4c5218",
   "metadata": {},
   "outputs": [],
   "source": [
    "import tkinter as tk\n",
    "import pyshorteners"
   ]
  },
  {
   "cell_type": "code",
   "execution_count": 6,
   "id": "b03923ca-269d-426f-8ba5-615566a95923",
   "metadata": {},
   "outputs": [],
   "source": [
    "#make parent window\n",
    "parent =tk.Tk()\n",
    "\n",
    "#add window title and set window geometry\n",
    "parent.title(\"URL Shortner\")\n",
    "parent.geometry(\"400x200\")\n",
    "\n",
    "\n",
    "#function\n",
    "def shorten():\n",
    "    shortener = pyshorteners.Shortener()\n",
    "    short_url = shortener.tinyurl.short(long_url_entry.get())\n",
    "    short_url_entry.insert(0,short_url)\n",
    "\n",
    "\n",
    "\n",
    "#ADD WIDGETS\n",
    "#add labels and entry box for URLs\n",
    "long_url_label=tk.Label(parent,text=\"Enter a Long URL\")\n",
    "long_url_entry=tk.Entry(parent)\n",
    "short_url_label=tk.Label(parent,text=\"your shortened URL\")\n",
    "short_url_entry=tk.Entry(parent)\n",
    "\n",
    "#add button\n",
    "get_short_url_btn=tk.Button(parent, text =\"Get Shortened URL\", command=shorten)\n",
    "\n",
    "\n",
    "\n",
    "#place widgets on parent window\n",
    "long_url_label.pack(pady=10)\n",
    "long_url_entry.pack()\n",
    "short_url_label.pack(pady=10)\n",
    "short_url_entry.pack()\n",
    "get_short_url_btn.pack(pady=5)\n",
    "\n"
   ]
  },
  {
   "cell_type": "code",
   "execution_count": null,
   "id": "313bdb67-784e-4d9d-a34d-a76708eaafb1",
   "metadata": {},
   "outputs": [],
   "source": []
  },
  {
   "cell_type": "code",
   "execution_count": 7,
   "id": "5cec1644-e550-4926-8324-e12b58a254e0",
   "metadata": {},
   "outputs": [
    {
     "name": "stderr",
     "output_type": "stream",
     "text": [
      "Exception in Tkinter callback\n",
      "Traceback (most recent call last):\n",
      "  File \"C:\\Users\\hp\\AppData\\Local\\Programs\\Python\\Python313\\Lib\\tkinter\\__init__.py\", line 2068, in __call__\n",
      "    return self.func(*args)\n",
      "           ~~~~~~~~~^^^^^^^\n",
      "  File \"C:\\Users\\hp\\AppData\\Local\\Temp\\ipykernel_16080\\3010945182.py\", line 12, in shorten\n",
      "    short_url = shortener.tinyurl.short(long_url_entry.get())\n",
      "  File \"C:\\Users\\hp\\AppData\\Local\\Programs\\Python\\Python313\\Lib\\site-packages\\pyshorteners\\shorteners\\tinyurl.py\", line 33, in short\n",
      "    url = self.clean_url(url)\n",
      "  File \"C:\\Users\\hp\\AppData\\Local\\Programs\\Python\\Python313\\Lib\\site-packages\\pyshorteners\\base.py\", line 152, in clean_url\n",
      "    raise BadURLException(f\"{url} is not valid\")\n",
      "pyshorteners.exceptions.BadURLException: URL is not valid: http:// is not valid\n"
     ]
    }
   ],
   "source": [
    "parent.mainloop()"
   ]
  },
  {
   "cell_type": "code",
   "execution_count": null,
   "id": "8bd1ac6a-db0c-4cb8-b4eb-cfc2b6f42e90",
   "metadata": {},
   "outputs": [],
   "source": []
  }
 ],
 "metadata": {
  "kernelspec": {
   "display_name": "Python 3 (ipykernel)",
   "language": "python",
   "name": "python3"
  },
  "language_info": {
   "codemirror_mode": {
    "name": "ipython",
    "version": 3
   },
   "file_extension": ".py",
   "mimetype": "text/x-python",
   "name": "python",
   "nbconvert_exporter": "python",
   "pygments_lexer": "ipython3",
   "version": "3.13.2"
  }
 },
 "nbformat": 4,
 "nbformat_minor": 5
}
